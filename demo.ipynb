{
 "cells": [
  {
   "cell_type": "code",
   "execution_count": 1,
   "metadata": {},
   "outputs": [],
   "source": [
    "import subprocess\n",
    "import os\n",
    "\n",
    "result = subprocess.run('bash -c \"source /etc/network_turbo && env | grep proxy\"', shell=True, capture_output=True, text=True)\n",
    "output = result.stdout\n",
    "for line in output.splitlines():\n",
    "    if '=' in line:\n",
    "        var, value = line.split('=', 1)\n",
    "        os.environ[var] = value"
   ]
  },
  {
   "cell_type": "code",
   "execution_count": 24,
   "metadata": {},
   "outputs": [
    {
     "name": "stdout",
     "output_type": "stream",
     "text": [
      "The cache for model files in Transformers v4.22.0 has been updated. Migrating your old cache. This is a one-time only operation. You can interrupt this and resume the migration later on by calling `transformers.utils.move_cache()`.\n",
      "100%|██████████| 5/5 [00:04<00:00,  1.10it/s]\n",
      "2023-09-27 23:10:13,749 - modelscope - INFO - PyTorch version 2.0.1 Found.\n",
      "2023-09-27 23:10:13,750 - modelscope - INFO - Loading ast index from /root/.cache/modelscope/ast_indexer\n",
      "2023-09-27 23:10:13,750 - modelscope - INFO - No valid ast index found from /root/.cache/modelscope/ast_indexer, generating ast index from prebuilt!\n",
      "2023-09-27 23:10:13,806 - modelscope - INFO - Loading done! Current index file version is 1.9.1, with md5 fba4430bb6aadac8c7fe83762e2a15a3 and a total number of 924 components indexed\n",
      "2023-09-27 23:10:14,076 - modelscope - INFO - Use user-specified model revision: v1.0.1\n",
      "Downloading: 100%|██████████| 21.0/21.0 [00:00<00:00, 2.16kB/s]\n",
      "Downloading: 100%|██████████| 583/583 [00:00<00:00, 60.4kB/s]\n",
      "Downloading: 100%|██████████| 108/108 [00:00<00:00, 49.9kB/s]\n",
      "Downloading: 100%|██████████| 179/179 [00:00<00:00, 82.9kB/s]\n",
      "Downloading: 100%|██████████| 6.86k/6.86k [00:00<00:00, 2.58MB/s]\n",
      "Downloading: 100%|██████████| 9.87k/9.87k [00:00<00:00, 2.64MB/s]\n",
      "Downloading: 100%|██████████| 1.20M/1.20M [00:00<00:00, 7.11MB/s]\n",
      "Downloading: 100%|██████████| 435/435 [00:00<00:00, 233kB/s]\n",
      "^C\n"
     ]
    }
   ],
   "source": [
    "!export MODELSCOPE_CACHE=/root/autodl-tmp/GlobalPointer_pytorch/cache\n",
    "!source ~/.bashrc\n",
    "!python train.py 2>&1 | tee err2.log"
   ]
  },
  {
   "cell_type": "code",
   "execution_count": null,
   "metadata": {},
   "outputs": [],
   "source": [
    "!python train.py 2>&1 | tee err2.log"
   ]
  },
  {
   "cell_type": "code",
   "execution_count": null,
   "metadata": {},
   "outputs": [],
   "source": []
  },
  {
   "cell_type": "code",
   "execution_count": 3,
   "metadata": {},
   "outputs": [
    {
     "name": "stdout",
     "output_type": "stream",
     "text": [
      "/root/autodl-tmp/GlobalPointer_pytorch\n"
     ]
    }
   ],
   "source": [
    "!pwd"
   ]
  },
  {
   "cell_type": "code",
   "execution_count": null,
   "metadata": {},
   "outputs": [],
   "source": []
  },
  {
   "cell_type": "code",
   "execution_count": null,
   "metadata": {},
   "outputs": [],
   "source": []
  }
 ],
 "metadata": {
  "kernelspec": {
   "display_name": "py8",
   "language": "python",
   "name": "python3"
  },
  "language_info": {
   "codemirror_mode": {
    "name": "ipython",
    "version": 3
   },
   "file_extension": ".py",
   "mimetype": "text/x-python",
   "name": "python",
   "nbconvert_exporter": "python",
   "pygments_lexer": "ipython3",
   "version": "3.8.18"
  },
  "orig_nbformat": 4
 },
 "nbformat": 4,
 "nbformat_minor": 2
}
